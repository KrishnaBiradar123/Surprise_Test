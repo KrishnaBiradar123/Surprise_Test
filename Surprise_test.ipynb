{
 "cells": [
  {
   "cell_type": "markdown",
   "id": "bdeb9497-651e-4cb8-a748-8038ec006aec",
   "metadata": {},
   "source": [
    "**moving zeroes**"
   ]
  },
  {
   "cell_type": "code",
   "execution_count": 22,
   "id": "92b55a73-3168-4ab4-8717-722b259fd32d",
   "metadata": {},
   "outputs": [
    {
     "name": "stdout",
     "output_type": "stream",
     "text": [
      "[1, 3, 12, 0, 12]\n",
      "[1, 3, 12, 0, 0]\n"
     ]
    }
   ],
   "source": [
    "def test(zeros):\n",
    "    p = 0\n",
    "\n",
    "    for i in zeros:\n",
    "        if i != 0:\n",
    "            zeros[p] = i\n",
    "            p += 1\n",
    "\n",
    "    for i in range(p, len(zeros)):\n",
    "        zeros[i] = 0\n",
    "        print(zeros)\n",
    "test([0,1,0,3,12])"
   ]
  },
  {
   "cell_type": "code",
   "execution_count": 26,
   "id": "f87ad50e-b2b0-485f-8d45-46395d197c83",
   "metadata": {},
   "outputs": [
    {
     "data": {
      "text/plain": [
       "0"
      ]
     },
     "execution_count": 26,
     "metadata": {},
     "output_type": "execute_result"
    }
   ],
   "source": [
    " def firstUniqChar(s):\n",
    "        frequency = {}\n",
    "        for i in s:\n",
    "            if i not in frequency:\n",
    "                frequency[i] = 1\n",
    "            else:\n",
    "                frequency[i] +=1\n",
    "        for i in range(len(s)):\n",
    "            if frequency[s[i]] == 1:\n",
    "                return i\n",
    "      \n",
    "        return -1\n",
    "firstUniqChar(\"leetcode\")"
   ]
  },
  {
   "cell_type": "code",
   "execution_count": 25,
   "id": "16da97bd-7deb-463a-9fb0-1fd71e637598",
   "metadata": {},
   "outputs": [
    {
     "data": {
      "text/plain": [
       "-1"
      ]
     },
     "execution_count": 25,
     "metadata": {},
     "output_type": "execute_result"
    }
   ],
   "source": [
    "firstUniqChar(\"aabb\")"
   ]
  },
  {
   "cell_type": "code",
   "execution_count": null,
   "id": "a98c5c52-9ac8-4349-be57-c642327c19fb",
   "metadata": {},
   "outputs": [],
   "source": []
  }
 ],
 "metadata": {
  "kernelspec": {
   "display_name": "Python 3 (ipykernel)",
   "language": "python",
   "name": "python3"
  },
  "language_info": {
   "codemirror_mode": {
    "name": "ipython",
    "version": 3
   },
   "file_extension": ".py",
   "mimetype": "text/x-python",
   "name": "python",
   "nbconvert_exporter": "python",
   "pygments_lexer": "ipython3",
   "version": "3.10.6"
  }
 },
 "nbformat": 4,
 "nbformat_minor": 5
}
